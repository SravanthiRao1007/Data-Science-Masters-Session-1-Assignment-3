{
 "cells": [
  {
   "cell_type": "code",
   "execution_count": 3,
   "metadata": {},
   "outputs": [
    {
     "name": "stdout",
     "output_type": "stream",
     "text": [
      "What is your first name? Sravanthi\n",
      "What is your last name? Rao\n",
      "Rao Sravanthi\n",
      "Hello, your last name is Rao and your first name is Sravanthi\n"
     ]
    }
   ],
   "source": [
    "# Sravanthi's Session 1 Assignment 3 \n",
    "fname = input(\"What is your first name? \")\n",
    "lname = input(\"What is your last name? \")\n",
    "print(lname,fname)\n",
    "# Additional print command\n",
    "print(\"Hello, your last name is \" + str(lname) +  \" and your first name is \" + str(fname))\n"
   ]
  },
  {
   "cell_type": "code",
   "execution_count": null,
   "metadata": {},
   "outputs": [],
   "source": []
  }
 ],
 "metadata": {
  "kernelspec": {
   "display_name": "Python 3",
   "language": "python",
   "name": "python3"
  },
  "language_info": {
   "codemirror_mode": {
    "name": "ipython",
    "version": 3
   },
   "file_extension": ".py",
   "mimetype": "text/x-python",
   "name": "python",
   "nbconvert_exporter": "python",
   "pygments_lexer": "ipython3",
   "version": "3.6.5"
  }
 },
 "nbformat": 4,
 "nbformat_minor": 2
}
